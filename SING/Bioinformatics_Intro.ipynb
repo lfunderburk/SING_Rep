{
 "cells": [
  {
   "cell_type": "code",
   "execution_count": 1,
   "metadata": {},
   "outputs": [
    {
     "data": {
      "text/html": [
       "<script>\n",
       "code_show=true; \n",
       "function code_toggle() {\n",
       " if (code_show){\n",
       " $('div.input').hide();\n",
       " } else {\n",
       " $('div.input').show();\n",
       " }\n",
       " code_show = !code_show\n",
       "} \n",
       "$( document ).ready(code_toggle);\n",
       "</script>\n",
       "The raw code for this IPython notebook is by default hidden for easier reading.\n",
       "To toggle on/off the raw code, click <a href=\"javascript:code_toggle()\">here</a>."
      ],
      "text/plain": [
       "<IPython.core.display.HTML object>"
      ]
     },
     "execution_count": 1,
     "metadata": {},
     "output_type": "execute_result"
    }
   ],
   "source": [
    "from IPython.display import HTML\n",
    "\n",
    "HTML('''<script>\n",
    "code_show=true; \n",
    "function code_toggle() {\n",
    " if (code_show){\n",
    " $('div.input').hide();\n",
    " } else {\n",
    " $('div.input').show();\n",
    " }\n",
    " code_show = !code_show\n",
    "} \n",
    "$( document ).ready(code_toggle);\n",
    "</script>\n",
    "The raw code for this IPython notebook is by default hidden for easier reading.\n",
    "To toggle on/off the raw code, click <a href=\"javascript:code_toggle()\">here</a>.''')\n"
   ]
  },
  {
   "cell_type": "markdown",
   "metadata": {},
   "source": [
    "\n",
    "<img src=\"./images/SING_Banner.png\" width=600px/> "
   ]
  },
  {
   "cell_type": "markdown",
   "metadata": {},
   "source": [
    "<h1 align='center'>Introduction to Bioinformatics</h1>\n",
    "\n",
    "\n",
    "<h2 align='center'>Introduction</h2>\n",
    "\n",
    "Bioinformatics is an area of study dedicated to handling\n",
    "genetic information. Bioinformatics involves research,\n",
    "development, or application of computational tools and\n",
    "approaches to acquire, store, visualize, and interpret medical\n",
    "or biological data.\n",
    "\n",
    "\n",
    "In this notebook, participants will have an opportunity to learn about basics of bioinformatics analysis. \n",
    "\n",
    "---"
   ]
  },
  {
   "cell_type": "markdown",
   "metadata": {},
   "source": [
    "<h2 align='center'>Background</h2>\n",
    "\n",
    "Let us start with a few basic definitions and build our way up to more complex concepts. \n",
    "\n",
    "<div class=\"alert alert-warning\">\n",
    "<font color=\"black\"><b>Definition.</b> A **sequence** is a string of letters. \n",
    "  </font>\n",
    "</div>\n",
    "\n",
    "By string, we just mean one letter after another. \n",
    "\n",
    "<div class=\"alert alert-warning\">\n",
    "<font color=\"black\"><b>Definition.</b> A **DNA sequence** is a sequence formed by letters A,C,T,G.\n",
    "  </font>\n",
    "</div>\n",
    "\n",
    "\n",
    "Recall that a nucelotide is an organic molecule that serve as the monomer units for forming the nucleic acid polymers deoxyribonucleic acid (DNA) and ribonucleic acid (RNA), both of which are essential biomolecules within all life-forms on Earth.\n",
    "\n",
    "The nucleic acid notation currently in use was first formalized by the International Union of Pure and Applied Chemistry (IUPAC) in 1970.\n",
    "\n",
    "This universally accepted notation uses the Roman characters G, C, A, and T, to represent the four nucleotides commonly found in deoxyribonucleic acids (DNA).\n",
    "\n",
    "This is a DNA sequence\n",
    "\n",
    "\n",
    "$$A\\text{ }C\\text{ }G\\text{ }G\\text{ }G\\text{ }C\\text{ }C\\text{ }C\\text{ }G\\text{ }C\\text{ }G\\text{ }C\\text{ }G\\text{ }G\\text{ }G\\text{ }T\\text{ }T\\text{ }T$$\n",
    "\n",
    "So is this\n",
    "\n",
    "\n",
    "$$C\\text{ }C\\text{ }C\\text{ }G\\text{ }G\\text{ }T\\text{ }T\\text{ }A\\text{ }G\\text{ }G\\text{ }G\\text{ }A\\text{ }G\\text{ }A\\text{ }G\\text{ }G\\text{ }G\\text{ }C$$\n",
    "\n",
    "\n",
    "\n",
    "<div class=\"alert alert-warning\">\n",
    "<font color=\"black\"><b>Definition.</b> The **length** of a sequence is the number of letters its made of.\n",
    "  </font>\n",
    "</div>\n",
    "\n",
    "From our previous example, \n",
    "\n",
    "$$A\\text{ }C\\text{ }G\\text{ }G\\text{ }G\\text{ }C\\text{ }C\\text{ }C\\text{ }G\\text{ }C\\text{ }G\\text{ }C\\text{ }G\\text{ }G\\text{ }G\\text{ }T\\text{ }T\\text{ }T$$\n",
    "\n",
    "has length 13\n",
    "\n",
    "$$C\\text{ }C\\text{ }C\\text{ }G\\text{ }G\\text{ }T\\text{ }T\\text{ }A\\text{ }G\\text{ }G\\text{ }G\\text{ }A\\text{ }G\\text{ }A\\text{ }G\\text{ }G\\text{ }G\\text{ }C$$\n",
    "\n",
    "also has length 13.\n",
    "\n",
    "\n",
    "\n",
    "---\n"
   ]
  },
  {
   "cell_type": "markdown",
   "metadata": {},
   "source": [
    "<h2 align='center'>Sequence Alignment</h2>\n",
    "\n",
    "<div class=\"alert alert-warning\">\n",
    "<font color=\"black\"><b>Definition.</b> A **DNA sequence alignment** is a method to arrange at least two DNA sequences, with the purpose of identifying regions of similarity or dissimilarity. \n",
    "  </font>\n",
    "</div>\n",
    "\n",
    "<h3 align='center'>Why do we care about finding regions of similarity or dissimilarity between two or more given DNA sequences?</h3>\n",
    "\n",
    "Regions of similarity and dissimilarity carry information on the functional, structural or evolutionary relationships between the sequences.\n",
    "\n",
    "Given two DNA sequences, say,\n",
    "\n",
    "$$S_1:= ACGTTGGCCACCC$$\n",
    "\n",
    "$$S_2:= GTGTGGGGACCCC$$\n",
    "\n",
    "how can we determine the existing regions of similarity to establish hypothesis on functional, structural or evolutionary relationships between them? \n",
    "\n",
    "In simple terms, how do we measure how 'similar' they are? \n",
    "\n",
    "We can begin by fixing one of the two sequences, say $S_1$ and \"stacking\" $S_2$ underneath it so that there is a one to one correspondence between each nucleotide in the sequences.\n",
    "\n",
    "$$A\\text{ }C\\text{ }G\\text{ }T\\text{ }T\\text{ }G\\text{ }G\\text{ }C\\text{ }C\\text{ }A\\text{ }C\\text{ }C\\text{ }C$$\n",
    "$$\\text{ }\\mid \\text{ }\\text{ }\\mid \\text{ }\\mid \\text{ }\\mid \\text{ }\\mid \\text{ }\\mid \\text{ }\\mid \\text{ }\\mid \\text{ }\\mid \\text{ }\\mid \\text{ }\\mid \\text{ }\\mid \\text{ }$$\n",
    "$$G\\text{ }T\\text{ }G\\text{ }T\\text{ }G\\text{ }G\\text{ }G\\text{ }G\\text{ }A\\text{ }C\\text{ }C\\text{ }C\\text{ }C$$\n",
    "\n",
    "The widget below is designed to demonstrate the process of comparing two sequences this way. \n",
    "\n",
    "Use the slider to set what position within the alignment you wish to compare. "
   ]
  },
  {
   "cell_type": "code",
   "execution_count": 2,
   "metadata": {},
   "outputs": [],
   "source": [
    "# Import libraires\n",
    "import matplotlib.pyplot as plt\n",
    "import pandas as pd\n",
    "import numpy as np\n",
    "\n",
    "from ipywidgets import widgets\n",
    "from ipywidgets import Button, Layout,interact_manual,interact\n",
    "from IPython.display import display, Javascript, Markdown\n",
    "import numpy as np\n",
    "from mpl_toolkits.mplot3d import Axes3D\n",
    "from ipywidgets import widgets as w\n",
    "from ipywidgets import Button, Layout\n",
    "from IPython.display import display, Javascript, Markdown"
   ]
  },
  {
   "cell_type": "code",
   "execution_count": 3,
   "metadata": {},
   "outputs": [],
   "source": [
    "from ipywidgets import Button , Layout , interact,widgets\n",
    "from IPython.display import Javascript, display\n",
    "\n",
    "# Function: executes previous cell on button widget click event and hides achievement indicators message\n",
    "\n",
    "def run_current(ev):\n",
    "    \n",
    "    display(Javascript('IPython.notebook.execute_cell_range(IPython.notebook.get_selected_index()+0,IPython.notebook.get_selected_index()+1)'))    "
   ]
  },
  {
   "cell_type": "code",
   "execution_count": 4,
   "metadata": {},
   "outputs": [
    {
     "data": {
      "application/vnd.jupyter.widget-view+json": {
       "model_id": "2f501c854e134614a2e01d7a07bb60de",
       "version_major": 2,
       "version_minor": 0
      },
      "text/html": [
       "<p>Failed to display Jupyter Widget of type <code>interactive</code>.</p>\n",
       "<p>\n",
       "  If you're reading this message in the Jupyter Notebook or JupyterLab Notebook, it may mean\n",
       "  that the widgets JavaScript is still loading. If this message persists, it\n",
       "  likely means that the widgets JavaScript library is either not installed or\n",
       "  not enabled. See the <a href=\"https://ipywidgets.readthedocs.io/en/stable/user_install.html\">Jupyter\n",
       "  Widgets Documentation</a> for setup instructions.\n",
       "</p>\n",
       "<p>\n",
       "  If you're reading this message in another frontend (for example, a static\n",
       "  rendering on GitHub or <a href=\"https://nbviewer.jupyter.org/\">NBViewer</a>),\n",
       "  it may mean that your frontend doesn't currently support widgets.\n",
       "</p>\n"
      ],
      "text/plain": [
       "interactive(children=(IntSlider(value=0, continuous_update=False, description='Position in alignment', max=12, style=SliderStyle(description_width='initial')), Output()), _dom_classes=('widget-interact',))"
      ]
     },
     "metadata": {},
     "output_type": "display_data"
    }
   ],
   "source": [
    "import matplotlib.pyplot as plt\n",
    "\n",
    "def demo_seq(value):\n",
    "    fig = plt.figure(figsize=(16,5))\n",
    "    S1 = \"ACGTTGGCCACCC\"\n",
    "    S2 = \"GTGTGGGGACCCC\"\n",
    "    ax1 = fig.add_subplot(1, 3, 1)\n",
    "    ax2 = fig.add_subplot(1, 3, 2)\n",
    "    ax3 = fig.add_subplot(1, 3, 3)\n",
    "    ax1.set_title(\"Sequence Name\",fontsize=30)\n",
    "    ax2.set_title(\"DNA Sequence\",fontsize=30)\n",
    "    ax1.set_xticklabels([]),ax1.set_yticklabels([])\n",
    "    ax2.set_xticklabels([]),ax2.set_yticklabels([])\n",
    "    ax3.set_xticklabels([]),ax3.set_yticklabels([])\n",
    "    ax1.axis(\"Off\"),ax2.axis(\"Off\"),ax3.axis(\"Off\")\n",
    "    \n",
    "    for i in range(len(S1)):\n",
    "        ax2.text(i/10,0.8,S1[i],fontsize=30)\n",
    "        ax2.text(i/10,0.7,\"|\",fontsize=30)\n",
    "        ax2.text(i/10,0.6,S2[i] ,fontsize=30)\n",
    "\n",
    "    ax1.text(0.4,0.8,\"S1\",fontsize=30)\n",
    "    ax1.text(0.4,0.6,\"S2\" ,fontsize=30)\n",
    "    \n",
    "    ax2.text(value/10,0.8,S1[value],fontsize=30,color='red')\n",
    "    ax2.text(value/10,0.6,S2[value],fontsize=30,color='red')\n",
    "    \n",
    "    if S1[value]==S2[value]:\n",
    "        ax3.text(0.5,0.65,\"Perfect\\nmatch\",fontsize=30)\n",
    "    else:\n",
    "        ax3.text(0.5,0.65,\"Bases\\ndiffer\",fontsize=30)\n",
    "\n",
    "    plt.show()\n",
    "style = {'description_width': 'initial'}    \n",
    "interact(demo_seq,value=widgets.IntSlider(value=0,\n",
    "            min=0,\n",
    "            max=12,\n",
    "            step=1,\n",
    "            description='Position in alignment',\n",
    "            disabled=False,\n",
    "            continuous_update=False,\n",
    "            orientation='horizontal',\n",
    "            readout=True,\n",
    "            readout_format='d',\n",
    "            style =style\n",
    "));"
   ]
  },
  {
   "cell_type": "markdown",
   "metadata": {},
   "source": [
    "In this case it was easy comparing the sequences base by base on a column-basis, as the lengths were equal. In reality, bioinformaticians work with DNA sequences of differing lengths. \n",
    "\n",
    "Furthermore, DNA sequences do not remain fixed over time.\n",
    "\n",
    "This leads us to the next section.\n",
    "\n",
    "---\n",
    "\n",
    "<h3 align='center'>Mutation Events</h3>\n",
    "\n",
    "Over the course of biological evolution (in real time as a matter of fact) DNA sequence changes, mostly due **mutations**. We can classify the different types of mutation events as follows:\n",
    "\n",
    "$\\bullet$ **Substitutions**: in this case one base (or amino acid if we are working with a protein sequence) is replaced with another base (respectively, another amino acid). \n",
    "\n",
    "$\\bullet$ **Insertions**: in this case, one or more contiguous bases (amino acid) are inserted into a sequence. We denote insertions with a symbol \"-\". \n",
    "\n",
    "$\\bullet$ **Deletions**: in this case, one or more contigous bases (amino acids) are deleted from a sequence. We denote deletions with the symbol \"-\".\n",
    "\n",
    "\n",
    "<h3 align='center'>Abbreviation Keys For Mutation Events</h3>\n",
    "\n",
    "The abbreviation key for $-$ is \"indel\", which stands for *insertion* or *deletion* events that have occurred since the last common ancestor. \n",
    "\n",
    "The abbreviation key for a *substitution*  event that occurred since the last common ancestor is \"sub\". \n",
    "\n",
    "Similarly, to indicate that no change has taken place, the abbreviation key \"nc\" is used to denote that *no change* has occurred since the last common ancestor. \n",
    "\n",
    "---\n",
    "\n",
    "\n",
    "<h3 align='center'>Example of a substitution</h3>\n",
    "\n",
    "Let us illustrate this. Let us take one ancestral DNA sequence such as\n",
    "\n",
    "$$ACCAGGTT$$\n",
    "\n",
    "Over the course of biological evolution we will observe changes on the sequence. \n",
    " "
   ]
  },
  {
   "cell_type": "code",
   "execution_count": 5,
   "metadata": {},
   "outputs": [
    {
     "data": {
      "image/png": "[encoded data removed]",
      "text/plain": [
       "<matplotlib.figure.Figure at 0x7f32da772f60>"
      ]
     },
     "metadata": {},
     "output_type": "display_data"
    }
   ],
   "source": [
    "fig = plt.figure(figsize=(16,5))\n",
    "ax1 = fig.add_subplot(1, 3, 1)\n",
    "ax2 = fig.add_subplot(1, 3, 2)\n",
    "ax3 = fig.add_subplot(1, 3, 3)\n",
    "\n",
    "ax1.text(0.0,0.8,\"Starting Ancestral\\n  DNA Sequence\",fontsize=30)\n",
    "ax1.text(0.2,0.5,\"ACCAGGTT\",fontsize=25)\n",
    "\n",
    "ax2.text(0.0,0.8,\"Evolution Over\\n       Time\",fontsize=30)\n",
    "\n",
    "ax2.arrow(0,0.5,0.6,0.0,head_width=0.05, head_length=0.1, fc='k', ec='k')\n",
    "\n",
    "ax3.text(0.0,0.8,\"Descendant DNA\\nSequence\",fontsize=30)\n",
    "ax3.text(0.0,0.45,\"ACCAAGTT\",fontsize=25)\n",
    "\n",
    "ax1.axis(\"Off\"),ax2.axis(\"Off\"),ax3.axis(\"Off\")\n",
    "plt.show()"
   ]
  },
  {
   "cell_type": "markdown",
   "metadata": {},
   "source": [
    "Let us perform a sequence alignment between the ancestral DNA sequence and the first descendant from top to bottom.\n",
    "\n",
    "Use the slider to change the position in the alignment that we are focusing on. \n"
   ]
  },
  {
   "cell_type": "code",
   "execution_count": 6,
   "metadata": {},
   "outputs": [
    {
     "data": {
      "application/vnd.jupyter.widget-view+json": {
       "model_id": "0fe69513a03d4f23a5e41416a1a372b6",
       "version_major": 2,
       "version_minor": 0
      },
      "text/html": [
       "<p>Failed to display Jupyter Widget of type <code>interactive</code>.</p>\n",
       "<p>\n",
       "  If you're reading this message in the Jupyter Notebook or JupyterLab Notebook, it may mean\n",
       "  that the widgets JavaScript is still loading. If this message persists, it\n",
       "  likely means that the widgets JavaScript library is either not installed or\n",
       "  not enabled. See the <a href=\"https://ipywidgets.readthedocs.io/en/stable/user_install.html\">Jupyter\n",
       "  Widgets Documentation</a> for setup instructions.\n",
       "</p>\n",
       "<p>\n",
       "  If you're reading this message in another frontend (for example, a static\n",
       "  rendering on GitHub or <a href=\"https://nbviewer.jupyter.org/\">NBViewer</a>),\n",
       "  it may mean that your frontend doesn't currently support widgets.\n",
       "</p>\n"
      ],
      "text/plain": [
       "interactive(children=(IntSlider(value=0, continuous_update=False, description='Position in alignment', max=7, style=SliderStyle(description_width='initial')), Output()), _dom_classes=('widget-interact',))"
      ]
     },
     "metadata": {},
     "output_type": "display_data"
    }
   ],
   "source": [
    "def ancestral(value):\n",
    "    S1 = \"ACCAGGTT\"\n",
    "    S2 = \"ACCAAGTT\"\n",
    "    fig = plt.figure(figsize=(16,5))\n",
    "    ax1 = fig.add_subplot(1, 3, 1)\n",
    "    ax2 = fig.add_subplot(1, 3, 2)\n",
    "    ax3 = fig.add_subplot(1, 3, 3)\n",
    "#     ax1.set_title(\"Ancestral DNA\\n Sequence\",fontsize=30)\n",
    "#     ax2.set_title(\"Descendant DNA\\n Sequence\",fontsize=30)\n",
    "    ax2.text(0.0,1.0,\"Ancestral DNA\\n    Sequence\",fontsize=30)\n",
    "    ax2.text(0.0,0.2,\"Descendant DNA\\n    Sequence\",fontsize=30)\n",
    "    ax1.set_xticklabels([]),ax1.set_yticklabels([])\n",
    "    ax2.set_xticklabels([]),ax2.set_yticklabels([])\n",
    "    ax3.set_xticklabels([]),ax3.set_yticklabels([])\n",
    "    ax1.axis(\"Off\"),ax2.axis(\"Off\"),ax3.axis(\"Off\")\n",
    "    \n",
    "    for i in range(len(S1)):\n",
    "        ax2.text(i/10,0.8,S1[i],fontsize=30)\n",
    "        ax2.text(i/10,0.7,\"|\",fontsize=30)\n",
    "        ax2.text(i/10,0.6,S2[i] ,fontsize=30)\n",
    "\n",
    "#     ax1.text(0.4,0.8,\"S1\",fontsize=30)\n",
    "#     ax1.text(0.4,0.6,\"S2\" ,fontsize=30)\n",
    "    \n",
    "    ax2.text(value/10,0.8,S1[value],fontsize=30,color='red')\n",
    "    ax2.text(value/10,0.6,S2[value],fontsize=30,color='red')\n",
    "    \n",
    "    if S1[value]==S2[value]:\n",
    "        ax3.text(0.5,0.65,\"Perfect\\nmatch\",fontsize=30)\n",
    "    else:\n",
    "        ax3.text(0.5,0.65,\"Bases\\ndiffer\",fontsize=30)\n",
    "\n",
    "    plt.show()\n",
    "style = {'description_width': 'initial'}    \n",
    "interact(ancestral,value=widgets.IntSlider(value=0,\n",
    "            min=0,\n",
    "            max=7,\n",
    "            step=1,\n",
    "            description='Position in alignment',\n",
    "            disabled=False,\n",
    "            continuous_update=False,\n",
    "            orientation='horizontal',\n",
    "            readout=True,\n",
    "            readout_format='d',\n",
    "            style =style\n",
    "));"
   ]
  },
  {
   "cell_type": "markdown",
   "metadata": {},
   "source": [
    "**Assignment 1**\n",
    "\n",
    "In what position in the sequence alignment did the substitution take place?"
   ]
  },
  {
   "cell_type": "code",
   "execution_count": 7,
   "metadata": {},
   "outputs": [
    {
     "data": {
      "application/vnd.jupyter.widget-view+json": {
       "model_id": "121696070a744387a4bb6f33b814adc8",
       "version_major": 2,
       "version_minor": 0
      },
      "text/html": [
       "<p>Failed to display Jupyter Widget of type <code>interactive</code>.</p>\n",
       "<p>\n",
       "  If you're reading this message in the Jupyter Notebook or JupyterLab Notebook, it may mean\n",
       "  that the widgets JavaScript is still loading. If this message persists, it\n",
       "  likely means that the widgets JavaScript library is either not installed or\n",
       "  not enabled. See the <a href=\"https://ipywidgets.readthedocs.io/en/stable/user_install.html\">Jupyter\n",
       "  Widgets Documentation</a> for setup instructions.\n",
       "</p>\n",
       "<p>\n",
       "  If you're reading this message in another frontend (for example, a static\n",
       "  rendering on GitHub or <a href=\"https://nbviewer.jupyter.org/\">NBViewer</a>),\n",
       "  it may mean that your frontend doesn't currently support widgets.\n",
       "</p>\n"
      ],
      "text/plain": [
       "interactive(children=(Select(description='Position in sequence', options=('Select option', '1', '4', '2', '0'), style=DescriptionStyle(description_width='initial'), value='Select option'), Output()), _dom_classes=('widget-interact',))"
      ]
     },
     "metadata": {},
     "output_type": "display_data"
    }
   ],
   "source": [
    "from ipywidgets import interact_manual,widgets,interact\n",
    "\n",
    "\n",
    "s = {'description_width': 'initial'}        \n",
    "@interact(answer =widgets.Select(\n",
    "                    options=[\"Select option\",\"1\",\\\n",
    "                            \"4\",\"2\",\\\n",
    "                             \"0\"],\n",
    "                    value='Select option',\n",
    "                    description=\"Position in sequence\",\n",
    "                    disabled=False,\n",
    "                    style=s\n",
    "))\n",
    "\n",
    "def reflective_angle_question(answer):\n",
    "    if answer==\"Select option\":\n",
    "        print(\"Click on the correct position within the sequence alignment.\\n\")\n",
    "    \n",
    "    elif answer==\"4\":\n",
    "        print(\"Correct!\")\n",
    "    elif answer != \"4\" or answer != \"Select Option\":\n",
    "        print(\"Hint: Where do the bases differ in the sequence alignment? Use the slider to help you find the answer\")"
   ]
  },
  {
   "cell_type": "markdown",
   "metadata": {},
   "source": [
    "\n",
    "---\n",
    "\n",
    "<h2 align='center'>Example of a deletion/insertion</h2>\n",
    "\n",
    "We take the same ancestral DNA sequence as before and observe the following two descendants. Notice how the length of the descendants is different. \n",
    "\n",
    "Answer the following assignments and verify with the help of buttons.\n"
   ]
  },
  {
   "cell_type": "code",
   "execution_count": 8,
   "metadata": {},
   "outputs": [
    {
     "data": {
      "image/png": "[encoded data removed]",
      "text/plain": [
       "<matplotlib.figure.Figure at 0x7f32d8442978>"
      ]
     },
     "metadata": {},
     "output_type": "display_data"
    }
   ],
   "source": [
    "fig = plt.figure(figsize=(16,5))\n",
    "ax1 = fig.add_subplot(1, 3, 1)\n",
    "ax2 = fig.add_subplot(1, 3, 2)\n",
    "ax3 = fig.add_subplot(1, 3, 3)\n",
    "\n",
    "ax1.text(0.0,0.8,\"Starting Ancestral\\n  DNA Sequence\",fontsize=30)\n",
    "ax1.text(0.2,0.5,\"ACCAGGTT\",fontsize=25)\n",
    "\n",
    "ax2.text(0.0,0.8,\"Evolution Over\\n       Time\",fontsize=30)\n",
    "ax2.arrow(0,0.5,0.6,0.15,head_width=0.05, head_length=0.1, fc='k', ec='k')\n",
    "ax2.arrow(0,0.5,0.6,-0.15,head_width=0.05, head_length=0.1, fc='k', ec='k')\n",
    "\n",
    "ax3.text(0.0,0.8,\"Descendant DNA\\nSequences\",fontsize=30)\n",
    "ax3.text(0.0,0.65,\"ACCAAGTT\",fontsize=25)\n",
    "ax3.text(0.0,0.25,\"CCAGGTT\",fontsize=25)\n",
    "\n",
    "ax1.axis(\"Off\"),ax2.axis(\"Off\"),ax3.axis(\"Off\")\n",
    "plt.show()"
   ]
  },
  {
   "cell_type": "markdown",
   "metadata": {},
   "source": [
    "**Assignment 2**\n",
    "\n",
    "Compare the length of the starting DNA sequence and the second of the three new sequences that result from evolution over time. \n",
    "\n",
    "What is the length of the starting ancestral DNA sequence?\n",
    "\n",
    "$$ACCAGGTT$$"
   ]
  },
  {
   "cell_type": "code",
   "execution_count": 9,
   "metadata": {},
   "outputs": [],
   "source": [
    "ai_button_len = widgets.Button(button_style='info',description=\"Verify Length\", layout=Layout(width='25%', height='30px') )\n",
    "ai_button_len.on_click( run_current )\n",
    "len_count = 0"
   ]
  },
  {
   "cell_type": "code",
   "execution_count": 10,
   "metadata": {},
   "outputs": [
    {
     "data": {
      "application/vnd.jupyter.widget-view+json": {
       "model_id": "2048c48185d44bf9b2e2d4de71f5d772",
       "version_major": 2,
       "version_minor": 0
      },
      "text/html": [
       "<p>Failed to display Jupyter Widget of type <code>Button</code>.</p>\n",
       "<p>\n",
       "  If you're reading this message in the Jupyter Notebook or JupyterLab Notebook, it may mean\n",
       "  that the widgets JavaScript is still loading. If this message persists, it\n",
       "  likely means that the widgets JavaScript library is either not installed or\n",
       "  not enabled. See the <a href=\"https://ipywidgets.readthedocs.io/en/stable/user_install.html\">Jupyter\n",
       "  Widgets Documentation</a> for setup instructions.\n",
       "</p>\n",
       "<p>\n",
       "  If you're reading this message in another frontend (for example, a static\n",
       "  rendering on GitHub or <a href=\"https://nbviewer.jupyter.org/\">NBViewer</a>),\n",
       "  it may mean that your frontend doesn't currently support widgets.\n",
       "</p>\n"
      ],
      "text/plain": [
       "Button(button_style='info', description='Verify Length', layout=Layout(height='30px', width='25%'), style=ButtonStyle())"
      ]
     },
     "metadata": {},
     "output_type": "display_data"
    }
   ],
   "source": [
    "len_count +=1\n",
    "display(ai_button_len)\n",
    "\n",
    "if len_count>=2:\n",
    "    print(\"Length of sequence is:\")\n",
    "    print(len(\"ACCAGGTT\"))"
   ]
  },
  {
   "cell_type": "markdown",
   "metadata": {},
   "source": [
    "What is the length of the second new DNA sequence?\n",
    "\n",
    "$$ACCAGGTTT$$"
   ]
  },
  {
   "cell_type": "code",
   "execution_count": 11,
   "metadata": {},
   "outputs": [],
   "source": [
    "len_count = 0"
   ]
  },
  {
   "cell_type": "code",
   "execution_count": 12,
   "metadata": {},
   "outputs": [
    {
     "data": {
      "application/vnd.jupyter.widget-view+json": {
       "model_id": "2048c48185d44bf9b2e2d4de71f5d772",
       "version_major": 2,
       "version_minor": 0
      },
      "text/html": [
       "<p>Failed to display Jupyter Widget of type <code>Button</code>.</p>\n",
       "<p>\n",
       "  If you're reading this message in the Jupyter Notebook or JupyterLab Notebook, it may mean\n",
       "  that the widgets JavaScript is still loading. If this message persists, it\n",
       "  likely means that the widgets JavaScript library is either not installed or\n",
       "  not enabled. See the <a href=\"https://ipywidgets.readthedocs.io/en/stable/user_install.html\">Jupyter\n",
       "  Widgets Documentation</a> for setup instructions.\n",
       "</p>\n",
       "<p>\n",
       "  If you're reading this message in another frontend (for example, a static\n",
       "  rendering on GitHub or <a href=\"https://nbviewer.jupyter.org/\">NBViewer</a>),\n",
       "  it may mean that your frontend doesn't currently support widgets.\n",
       "</p>\n"
      ],
      "text/plain": [
       "Button(button_style='info', description='Verify Length', layout=Layout(height='30px', width='25%'), style=ButtonStyle())"
      ]
     },
     "metadata": {},
     "output_type": "display_data"
    }
   ],
   "source": [
    "len_count +=1\n",
    "display(ai_button_len)\n",
    "\n",
    "if len_count>=2:\n",
    "    print(\"Length of sequence is:\")\n",
    "    print(len(\"ACCATGTTT\"))"
   ]
  },
  {
   "cell_type": "markdown",
   "metadata": {},
   "source": [
    "We observe that the length of the new DNA sequence is longer than the length of the ancestral DNA sequence. This means an **insertion** has taken place. "
   ]
  },
  {
   "cell_type": "markdown",
   "metadata": {},
   "source": [
    "We can perform a sequence aligment of the ancestral DNA sequence $$ACCAGGTT$$\n",
    "\n",
    "and the new DNA sequence $$ACCAGGTTT$$\n",
    "\n",
    "by using a table and inserting an indel \"-\" so that the lengths of the two sequences are the same.\n",
    "\n",
    "|Sequence Type|DNA Sequence|\n",
    "|-------------|-------------|\n",
    "|Ancestral    |$\\text{ }\\text{ }\\text{ }-ACCAGGTT$|\n",
    "|New    |$ACCAGGTTT$|\n",
    "\n",
    "This gives rise to a question: \n",
    "\n",
    "<h3 align='center'>Where in the descendant DNA sequence did the insertion take place?</h3>\n",
    "\n",
    "Use the interactive widget below to place the indel in different places within the alignment. Generate hypothesis about where in the alignment it would make the most sense. There is not a unique answer to this assignment. "
   ]
  },
  {
   "cell_type": "code",
   "execution_count": 13,
   "metadata": {},
   "outputs": [
    {
     "data": {
      "application/vnd.jupyter.widget-view+json": {
       "model_id": "69dd98744d164664a1306fabc2925ec9",
       "version_major": 2,
       "version_minor": 0
      },
      "text/html": [
       "<p>Failed to display Jupyter Widget of type <code>interactive</code>.</p>\n",
       "<p>\n",
       "  If you're reading this message in the Jupyter Notebook or JupyterLab Notebook, it may mean\n",
       "  that the widgets JavaScript is still loading. If this message persists, it\n",
       "  likely means that the widgets JavaScript library is either not installed or\n",
       "  not enabled. See the <a href=\"https://ipywidgets.readthedocs.io/en/stable/user_install.html\">Jupyter\n",
       "  Widgets Documentation</a> for setup instructions.\n",
       "</p>\n",
       "<p>\n",
       "  If you're reading this message in another frontend (for example, a static\n",
       "  rendering on GitHub or <a href=\"https://nbviewer.jupyter.org/\">NBViewer</a>),\n",
       "  it may mean that your frontend doesn't currently support widgets.\n",
       "</p>\n"
      ],
      "text/plain": [
       "interactive(children=(IntSlider(value=0, continuous_update=False, description='Indel Position Ancestral DNA', max=8, style=SliderStyle(description_width='initial')), Output()), _dom_classes=('widget-interact',))"
      ]
     },
     "metadata": {},
     "output_type": "display_data"
    }
   ],
   "source": [
    "def demo_indel_in(value):\n",
    "    fig = plt.figure(figsize=(16,5))\n",
    "    S1 = [\"A\",\"C\",\"C\",\"A\",\"G\",\"G\",\"T\",\"T\"]\n",
    "    S2 = [\"A\",\"C\",\"C\",\"A\",\"G\",\"G\",\"T\",\"T\",\"T\"]\n",
    "    S3 = [\"C\",\"C\",\"A\",\"G\",\"G\",\"T\",\"T\",\"T\"]\n",
    "    ax1 = fig.add_subplot(1, 3, 1)\n",
    "    ax2 = fig.add_subplot(1, 3, 2)\n",
    "    ax3 = fig.add_subplot(1, 3, 3)\n",
    "    #ax1.set_title(\"Sequence\",fontsize=30)\n",
    "    #ax2.set_title(\"DNA Sequence\",fontsize=30)\n",
    "    ax1.set_xticklabels([]),ax1.set_yticklabels([])\n",
    "    ax2.set_xticklabels([]),ax2.set_yticklabels([])\n",
    "    \n",
    "    ax3.set_xticklabels([]),ax3.set_yticklabels([])\n",
    "    ax1.axis(\"Off\"),ax2.axis(\"Off\"),ax3.axis(\"Off\")\n",
    "    \n",
    "    indel= \"-\"\n",
    "    \n",
    "    #S1[0:value] + S1[value:-1]\n",
    "     \n",
    "    \n",
    "    S1.insert(value, indel)\n",
    "\n",
    "    for i in range(len(S1)):\n",
    "        ax2.text(i/10,0.8,S1[i],fontsize=25)\n",
    "        ax2.text(i/10,0.7,\"|\",fontsize=30)\n",
    "    \n",
    "    for i in range(len(S2)):\n",
    "        ax2.text(i/10,0.6,S2[i],fontsize=25)\n",
    "        \n",
    "\n",
    "    ax2.text(0.0,1.0,\"Ancestral DNA\\n   Sequence\",fontsize=30)\n",
    "    ax2.text(0.0,0.2,\"Descendant DNA\\n    Sequence\" ,fontsize=30)\n",
    "    \n",
    "#     ax2.text(value/10,0.8,S1[value],fontsize=30,color='red')\n",
    "#     ax2.text(value/10,0.6,S2[value],fontsize=30,color='red')\n",
    "    \n",
    "#     if S1[value]==S2[value]:\n",
    "#         ax3.text(0.5,0.7,\"Perfect\\nmatch\\n\\nAdd 1\",fontsize=30)\n",
    "#     else:\n",
    "#         ax3.text(0.5,0.7,\"Bases\\ndiffer\\n\\nAdd 0\",fontsize=30)\n",
    "\n",
    "    plt.show()\n",
    "style = {'description_width': 'initial'}    \n",
    "interact(demo_indel_in,value=widgets.IntSlider(value=0,\n",
    "            min=0,\n",
    "            max=8,\n",
    "            step=1,\n",
    "            description='Indel Position Ancestral DNA',\n",
    "            disabled=False,\n",
    "            continuous_update=False,\n",
    "            orientation='horizontal',\n",
    "            readout=True,\n",
    "            readout_format='d',\n",
    "            style =style\n",
    "));"
   ]
  },
  {
   "cell_type": "markdown",
   "metadata": {},
   "source": [
    "Use the box below to enter the base and position in the descendant sequence which you think was inserted. Press the Record Answer button when you have finished. "
   ]
  },
  {
   "cell_type": "code",
   "execution_count": 14,
   "metadata": {},
   "outputs": [
    {
     "data": {
      "application/vnd.jupyter.widget-view+json": {
       "model_id": "f86999d529cf454fb949e9a93e785f7f",
       "version_major": 2,
       "version_minor": 0
      },
      "text/html": [
       "<p>Failed to display Jupyter Widget of type <code>Textarea</code>.</p>\n",
       "<p>\n",
       "  If you're reading this message in the Jupyter Notebook or JupyterLab Notebook, it may mean\n",
       "  that the widgets JavaScript is still loading. If this message persists, it\n",
       "  likely means that the widgets JavaScript library is either not installed or\n",
       "  not enabled. See the <a href=\"https://ipywidgets.readthedocs.io/en/stable/user_install.html\">Jupyter\n",
       "  Widgets Documentation</a> for setup instructions.\n",
       "</p>\n",
       "<p>\n",
       "  If you're reading this message in another frontend (for example, a static\n",
       "  rendering on GitHub or <a href=\"https://nbviewer.jupyter.org/\">NBViewer</a>),\n",
       "  it may mean that your frontend doesn't currently support widgets.\n",
       "</p>\n"
      ],
      "text/plain": [
       "Textarea(value='', layout=Layout(height='75px', width='100%'), placeholder='Write your answer here. Press Record Answer when you finish.')"
      ]
     },
     "metadata": {},
     "output_type": "display_data"
    },
    {
     "data": {
      "application/vnd.jupyter.widget-view+json": {
       "model_id": "ec76771ba0c04696a2a29b49f970b477",
       "version_major": 2,
       "version_minor": 0
      },
      "text/html": [
       "<p>Failed to display Jupyter Widget of type <code>Button</code>.</p>\n",
       "<p>\n",
       "  If you're reading this message in the Jupyter Notebook or JupyterLab Notebook, it may mean\n",
       "  that the widgets JavaScript is still loading. If this message persists, it\n",
       "  likely means that the widgets JavaScript library is either not installed or\n",
       "  not enabled. See the <a href=\"https://ipywidgets.readthedocs.io/en/stable/user_install.html\">Jupyter\n",
       "  Widgets Documentation</a> for setup instructions.\n",
       "</p>\n",
       "<p>\n",
       "  If you're reading this message in another frontend (for example, a static\n",
       "  rendering on GitHub or <a href=\"https://nbviewer.jupyter.org/\">NBViewer</a>),\n",
       "  it may mean that your frontend doesn't currently support widgets.\n",
       "</p>\n"
      ],
      "text/plain": [
       "Button(button_style='info', description='Record Answer', layout=Layout(height='30px', width='15%'), style=ButtonStyle())"
      ]
     },
     "metadata": {},
     "output_type": "display_data"
    }
   ],
   "source": [
    "from ipywidgets import widgets as w\n",
    "from ipywidgets import Button, Layout\n",
    "from IPython.display import display, Javascript, Markdown\n",
    "\n",
    "def rerun_cell( b ):\n",
    "    \n",
    "    display(Javascript('IPython.notebook.execute_cell_range(IPython.notebook.get_selected_index()+1,IPython.notebook.get_selected_index()+2)'))   \n",
    "style = {'description_width': 'initial'}\n",
    "\n",
    "\n",
    "emma1_text = w.Textarea( value='', placeholder='Write your answer here. Press Record Answer when you finish.', description='', disabled=False , layout=Layout(width='100%', height='75px') )\n",
    "emma1_button = w.Button(button_style='info',description=\"Record Answer\", layout=Layout(width='15%', height='30px'))\n",
    "\n",
    "display(emma1_text)\n",
    "display(emma1_button)\n",
    "\n",
    "emma1_button.on_click( rerun_cell ) "
   ]
  },
  {
   "cell_type": "code",
   "execution_count": 15,
   "metadata": {},
   "outputs": [],
   "source": [
    "emma1_input = emma1_text.value\n",
    "\n",
    "if(emma1_input != ''):\n",
    "    \n",
    "    #emma1_text.close()\n",
    "    #emma1_button.close()\n",
    "    display(Markdown(\"### Your answer for Assignment 2\"))\n",
    "    display(Markdown(emma1_input))"
   ]
  },
  {
   "cell_type": "markdown",
   "metadata": {},
   "source": [
    "**Assignment 3**\n",
    "\n",
    "Compare the length of the starting DNA sequence and the third of the three new sequences that result from evolution over time. \n",
    "\n",
    "What is the length of the starting ancestral DNA sequence?\n",
    "\n",
    "$$ACCAGGTT$$"
   ]
  },
  {
   "cell_type": "code",
   "execution_count": 16,
   "metadata": {},
   "outputs": [],
   "source": [
    "ai_button_len = widgets.Button(button_style='info',description=\"Verify Length\", layout=Layout(width='25%', height='30px') )\n",
    "ai_button_len.on_click( run_current )\n",
    "len_count = 0"
   ]
  },
  {
   "cell_type": "code",
   "execution_count": 17,
   "metadata": {},
   "outputs": [
    {
     "data": {
      "application/vnd.jupyter.widget-view+json": {
       "model_id": "ce543eedc40f43f8b40fd729ce47399c",
       "version_major": 2,
       "version_minor": 0
      },
      "text/html": [
       "<p>Failed to display Jupyter Widget of type <code>Button</code>.</p>\n",
       "<p>\n",
       "  If you're reading this message in the Jupyter Notebook or JupyterLab Notebook, it may mean\n",
       "  that the widgets JavaScript is still loading. If this message persists, it\n",
       "  likely means that the widgets JavaScript library is either not installed or\n",
       "  not enabled. See the <a href=\"https://ipywidgets.readthedocs.io/en/stable/user_install.html\">Jupyter\n",
       "  Widgets Documentation</a> for setup instructions.\n",
       "</p>\n",
       "<p>\n",
       "  If you're reading this message in another frontend (for example, a static\n",
       "  rendering on GitHub or <a href=\"https://nbviewer.jupyter.org/\">NBViewer</a>),\n",
       "  it may mean that your frontend doesn't currently support widgets.\n",
       "</p>\n"
      ],
      "text/plain": [
       "Button(button_style='info', description='Verify Length', layout=Layout(height='30px', width='25%'), style=ButtonStyle())"
      ]
     },
     "metadata": {},
     "output_type": "display_data"
    }
   ],
   "source": [
    "len_count +=1\n",
    "display(ai_button_len)\n",
    "\n",
    "if len_count>=2:\n",
    "    print(\"Length of sequence is:\")\n",
    "    print(len(\"ACCAGGTT\"))"
   ]
  },
  {
   "cell_type": "markdown",
   "metadata": {},
   "source": [
    "What is the length of the third new DNA sequence?\n",
    "\n",
    "$$CCAGGTT$$"
   ]
  },
  {
   "cell_type": "code",
   "execution_count": 18,
   "metadata": {},
   "outputs": [],
   "source": [
    "len_count = 0"
   ]
  },
  {
   "cell_type": "code",
   "execution_count": 19,
   "metadata": {},
   "outputs": [
    {
     "data": {
      "application/vnd.jupyter.widget-view+json": {
       "model_id": "ce543eedc40f43f8b40fd729ce47399c",
       "version_major": 2,
       "version_minor": 0
      },
      "text/html": [
       "<p>Failed to display Jupyter Widget of type <code>Button</code>.</p>\n",
       "<p>\n",
       "  If you're reading this message in the Jupyter Notebook or JupyterLab Notebook, it may mean\n",
       "  that the widgets JavaScript is still loading. If this message persists, it\n",
       "  likely means that the widgets JavaScript library is either not installed or\n",
       "  not enabled. See the <a href=\"https://ipywidgets.readthedocs.io/en/stable/user_install.html\">Jupyter\n",
       "  Widgets Documentation</a> for setup instructions.\n",
       "</p>\n",
       "<p>\n",
       "  If you're reading this message in another frontend (for example, a static\n",
       "  rendering on GitHub or <a href=\"https://nbviewer.jupyter.org/\">NBViewer</a>),\n",
       "  it may mean that your frontend doesn't currently support widgets.\n",
       "</p>\n"
      ],
      "text/plain": [
       "Button(button_style='info', description='Verify Length', layout=Layout(height='30px', width='25%'), style=ButtonStyle())"
      ]
     },
     "metadata": {},
     "output_type": "display_data"
    }
   ],
   "source": [
    "len_count +=1\n",
    "display(ai_button_len)\n",
    "\n",
    "if len_count>=2:\n",
    "    print(\"Length of sequence is:\")\n",
    "    \n",
    "    print(len(\"CCAAGTT\"))\n"
   ]
  },
  {
   "cell_type": "markdown",
   "metadata": {},
   "source": [
    "We observe that the length of the new DNA sequence is shorter the length of the ancestral DNA sequence. This means a **deletion** has taken place. \n",
    "\n",
    "by using a table and inserting an indel \"-\" so that the lengths of the two sequences are the same.\n",
    "\n",
    "|Sequence Type|DNA Sequence|\n",
    "|-------------|-------------|\n",
    "|Ancestral    |$ACCAGGTT$|\n",
    "|New    |$ACCAGTT-$|\n",
    "\n",
    "This gives rise to a question: \n",
    "\n",
    "<h3 align='center'>Where in the ancestral DNA sequence did the deletion take place?</h3>\n",
    "\n",
    "\n",
    "Use the widget below to delete bases from the bottom new DNA sequence. \n",
    "\n",
    "Which base was deleted?"
   ]
  },
  {
   "cell_type": "code",
   "execution_count": 20,
   "metadata": {},
   "outputs": [
    {
     "data": {
      "application/vnd.jupyter.widget-view+json": {
       "model_id": "53eb34cdf2f6453494fc2c20ec63d474",
       "version_major": 2,
       "version_minor": 0
      },
      "text/html": [
       "<p>Failed to display Jupyter Widget of type <code>interactive</code>.</p>\n",
       "<p>\n",
       "  If you're reading this message in the Jupyter Notebook or JupyterLab Notebook, it may mean\n",
       "  that the widgets JavaScript is still loading. If this message persists, it\n",
       "  likely means that the widgets JavaScript library is either not installed or\n",
       "  not enabled. See the <a href=\"https://ipywidgets.readthedocs.io/en/stable/user_install.html\">Jupyter\n",
       "  Widgets Documentation</a> for setup instructions.\n",
       "</p>\n",
       "<p>\n",
       "  If you're reading this message in another frontend (for example, a static\n",
       "  rendering on GitHub or <a href=\"https://nbviewer.jupyter.org/\">NBViewer</a>),\n",
       "  it may mean that your frontend doesn't currently support widgets.\n",
       "</p>\n"
      ],
      "text/plain": [
       "interactive(children=(IntSlider(value=7, continuous_update=False, description='Indel Position Ancestral DNA', max=7, style=SliderStyle(description_width='initial')), Output()), _dom_classes=('widget-interact',))"
      ]
     },
     "metadata": {},
     "output_type": "display_data"
    }
   ],
   "source": [
    "def demo_indel_del(value):\n",
    "    fig = plt.figure(figsize=(16,5))\n",
    "    S1 = [\"A\",\"C\",\"C\",\"A\",\"G\",\"G\",\"T\",\"T\"]\n",
    "    S2 = [\"A\",\"C\",\"C\",\"A\",\"G\",\"G\",\"T\",\"T\",\"T\"]\n",
    "    S3 = [\"C\",\"C\",\"A\",\"G\",\"G\",\"T\",\"T\"]\n",
    "    ax1 = fig.add_subplot(1, 3, 1)\n",
    "    ax2 = fig.add_subplot(1, 3, 2)\n",
    "    ax3 = fig.add_subplot(1, 3, 3)\n",
    "    ax1.set_xticklabels([]),ax1.set_yticklabels([])\n",
    "    ax2.set_xticklabels([]),ax2.set_yticklabels([])\n",
    "    \n",
    "    ax3.set_xticklabels([]),ax3.set_yticklabels([])\n",
    "    ax1.axis(\"Off\"),ax2.axis(\"Off\"),ax3.axis(\"Off\")\n",
    "    \n",
    "    indel= \"-\"\n",
    "    \n",
    "     \n",
    "    \n",
    "    S3.insert(value,indel)\n",
    "\n",
    "    for i in range(len(S1)):\n",
    "        ax2.text(i/10,0.8,S1[i],fontsize=30)\n",
    "        ax2.text(i/10,0.7,\"|\",fontsize=30)\n",
    "    \n",
    "    for i in range(len(S3)):\n",
    "        ax2.text(i/10,0.55,S3[i],fontsize=30)\n",
    "        \n",
    "\n",
    "    ax2.text(0.0,1.0,\"Ancestral DNA\\n    Sequence\",fontsize=30)\n",
    "    ax2.text(0.0,0.2,\"Descendant DNA\\n      Sequence\" ,fontsize=30)\n",
    "\n",
    "\n",
    "    plt.show()\n",
    "style = {'description_width': 'initial'}    \n",
    "interact(demo_indel_del,value=widgets.IntSlider(value=7,\n",
    "            min=0,\n",
    "            max=7,\n",
    "            step=1,\n",
    "            description='Indel Position Ancestral DNA',\n",
    "            disabled=False,\n",
    "            continuous_update=False,\n",
    "            orientation='horizontal',\n",
    "            readout=True,\n",
    "            readout_format='d',\n",
    "            style =style\n",
    "));"
   ]
  },
  {
   "cell_type": "markdown",
   "metadata": {},
   "source": [
    "Use the box below to enter the base and position in the ancestral sequence which you think was deleted. Press the Record Answer button when you have finished. "
   ]
  },
  {
   "cell_type": "code",
   "execution_count": 21,
   "metadata": {},
   "outputs": [
    {
     "data": {
      "application/vnd.jupyter.widget-view+json": {
       "model_id": "af1b46656c79426fb17a1095a8f2aa1e",
       "version_major": 2,
       "version_minor": 0
      },
      "text/html": [
       "<p>Failed to display Jupyter Widget of type <code>Textarea</code>.</p>\n",
       "<p>\n",
       "  If you're reading this message in the Jupyter Notebook or JupyterLab Notebook, it may mean\n",
       "  that the widgets JavaScript is still loading. If this message persists, it\n",
       "  likely means that the widgets JavaScript library is either not installed or\n",
       "  not enabled. See the <a href=\"https://ipywidgets.readthedocs.io/en/stable/user_install.html\">Jupyter\n",
       "  Widgets Documentation</a> for setup instructions.\n",
       "</p>\n",
       "<p>\n",
       "  If you're reading this message in another frontend (for example, a static\n",
       "  rendering on GitHub or <a href=\"https://nbviewer.jupyter.org/\">NBViewer</a>),\n",
       "  it may mean that your frontend doesn't currently support widgets.\n",
       "</p>\n"
      ],
      "text/plain": [
       "Textarea(value='', layout=Layout(height='75px', width='100%'), placeholder='Write your answer here. Press Record Answer when you finish.')"
      ]
     },
     "metadata": {},
     "output_type": "display_data"
    },
    {
     "data": {
      "application/vnd.jupyter.widget-view+json": {
       "model_id": "67f81b5c784d463b8e17928b1ba97d68",
       "version_major": 2,
       "version_minor": 0
      },
      "text/html": [
       "<p>Failed to display Jupyter Widget of type <code>Button</code>.</p>\n",
       "<p>\n",
       "  If you're reading this message in the Jupyter Notebook or JupyterLab Notebook, it may mean\n",
       "  that the widgets JavaScript is still loading. If this message persists, it\n",
       "  likely means that the widgets JavaScript library is either not installed or\n",
       "  not enabled. See the <a href=\"https://ipywidgets.readthedocs.io/en/stable/user_install.html\">Jupyter\n",
       "  Widgets Documentation</a> for setup instructions.\n",
       "</p>\n",
       "<p>\n",
       "  If you're reading this message in another frontend (for example, a static\n",
       "  rendering on GitHub or <a href=\"https://nbviewer.jupyter.org/\">NBViewer</a>),\n",
       "  it may mean that your frontend doesn't currently support widgets.\n",
       "</p>\n"
      ],
      "text/plain": [
       "Button(button_style='info', description='Record Answer', layout=Layout(height='30px', width='15%'), style=ButtonStyle())"
      ]
     },
     "metadata": {},
     "output_type": "display_data"
    }
   ],
   "source": [
    "from ipywidgets import widgets as w\n",
    "from ipywidgets import Button, Layout\n",
    "from IPython.display import display, Javascript, Markdown\n",
    "\n",
    "def rerun_cell( b ):\n",
    "    \n",
    "    display(Javascript('IPython.notebook.execute_cell_range(IPython.notebook.get_selected_index()+1,IPython.notebook.get_selected_index()+2)'))   \n",
    "style = {'description_width': 'initial'}\n",
    "\n",
    "\n",
    "emma2_text = w.Textarea( value='', placeholder='Write your answer here. Press Record Answer when you finish.', description='', disabled=False , layout=Layout(width='100%', height='75px') )\n",
    "emma2_button = w.Button(button_style='info',description=\"Record Answer\", layout=Layout(width='15%', height='30px'))\n",
    "\n",
    "display(emma2_text)\n",
    "display(emma2_button)\n",
    "\n",
    "emma2_button.on_click( rerun_cell ) "
   ]
  },
  {
   "cell_type": "code",
   "execution_count": 22,
   "metadata": {},
   "outputs": [],
   "source": [
    "emma2_input = emma2_text.value\n",
    "\n",
    "if(emma2_input != ''):\n",
    "    \n",
    "    #emma1_text.close()\n",
    "    #emma1_button.close()\n",
    "    display(Markdown(\"### Your answer for Assignment 3\"))\n",
    "    display(Markdown(emma2_input))"
   ]
  },
  {
   "cell_type": "markdown",
   "metadata": {},
   "source": [
    "<h2 align='center'>Multiple Sequence Alignment</h2>\n",
    "\n",
    "Now that we are a bit more comfortable with comparing two sequences via a sequence alignment, we can take a step further and begin comparing more than two sequences at a time. This is known as a \"multiple sequence alignment\" or MSA. \n",
    "\n",
    "In the previous exercises, we compared two sequences at a time, using ancestral DNA sequences as reference (or ground truth) and descendant DNA sequence as test alignment, with the purpose of generating different hypothesis. \n",
    "\n",
    "In reality, bioinformaticians do not have access to ancestral DNA sequences, only descendant DNA sequences. \n",
    "\n",
    "When bioinformaticians come accross a number of descendant DNA sequences from the same species, what they do is perform an MSA on the descendant DNA sequences and make hypothesis about what the ancestral DNA sequence was. The goal is to generate a hypothesis on what the common ancestors between a given number of genes are. \n",
    "\n",
    "Let's suppose we are given four gene sequences, and our job is to find common ancestors. We know the gene sequences belong to Butter clam (Saxidomus gigantea) found in B.C. and we wish to perform a MSA and generate hypothesis about what the common ancestors are. \n",
    "\n",
    "We are given the following information about the butter clam and the file 4_saxidomus_coi.fasta (you can find this file in the main page). \n",
    "\n",
    "Follow the rest of the notebook to find how we as bioinformaticians would go about generating hypothesis about common ancestors. "
   ]
  },
  {
   "cell_type": "markdown",
   "metadata": {},
   "source": [
    "**Assignment 4**\n",
    "\n",
    "Read the excerpt below\n",
    "\n",
    "<h2 align='center'>Clam Species in BC: Butter Clam</h2>\n",
    "\n",
    "\n",
    "Saxidomus giganteus, or the butter clam, is a bivalve mollusk of the family Veneridae occuring along the Pacific coastline of North America from California to Alaska. Its shell measures on average three inches in length with light grey and white coloration and smooth ridges; inside its flesh is totally white. The butter clam can be found in the intertidal zone, usually buried to a depth of approximately one foot in sandy, gravelly, and mixed-shell substrate. Like most bivalves, it lives a sedentary lifestyle filter-feeding and consuming a diet of phyto-plankton. Unlike most bivalves, it has the ability to sequester paralytic shellfish poisons (PSTs) in its siphon and store them there for as long as two years, deterring any siphon-nipping predator. The butter clam is used for a variety of purposes, ranging from archaeological research to monitoring water pollution.\n",
    "\n",
    "<img src=\"./images/Saxidomus_gigantea1sDLC2005.jpg\" width=600px/> "
   ]
  },
  {
   "cell_type": "markdown",
   "metadata": {},
   "source": [
    "<h2 align='center'>Parsing sequence file formats</h2>\n",
    "\n",
    "We begin this section by stating the following\n",
    "\n",
    "<div class=\"alert alert-warning\">\n",
    "<font color=\"black\"><b>Definition.</b> **FASTA format** is a text-based format for representing either nucleotide sequences or peptide sequences, in which base pairs or amino acids are represented using single-letter codes.  A sequence in FASTA format begins with a single-line description, followed by lines of sequence data. The description line is distinguished from the sequence data by a greater-than (\">\") symbol in the first column. It is recommended that all lines of text be shorter than 80 characters in length. $^{[2]}$\n",
    "  </font>\n",
    "</div>\n",
    "\n",
    "\n",
    "**Assignment 5**\n",
    "\n",
    "Go to the home menu and open the file \"4_saxidomus_coi.fasta\" found in the Gene_Sequences folder. "
   ]
  },
  {
   "cell_type": "markdown",
   "metadata": {},
   "source": [
    "In this file we find 4 gene sequences, each sequence starts with the symbol \">\" followed by an **identifier**. \n",
    "\n",
    "This notebook is designed to help you manipulate the sequences in that file. \n",
    "\n",
    "Press the following button to display the identifier of each sequence."
   ]
  },
  {
   "cell_type": "code",
   "execution_count": 23,
   "metadata": {},
   "outputs": [],
   "source": [
    "#!pip install biopython --user"
   ]
  },
  {
   "cell_type": "code",
   "execution_count": 24,
   "metadata": {},
   "outputs": [],
   "source": [
    "import sys"
   ]
  },
  {
   "cell_type": "code",
   "execution_count": 25,
   "metadata": {},
   "outputs": [],
   "source": [
    "sys.path.append(\"/home/singcanada2018/.local/lib/python3.6/site-packages\")"
   ]
  },
  {
   "cell_type": "code",
   "execution_count": 26,
   "metadata": {},
   "outputs": [],
   "source": [
    "import Bio\n",
    "from Bio import SeqIO"
   ]
  },
  {
   "cell_type": "code",
   "execution_count": 27,
   "metadata": {},
   "outputs": [],
   "source": [
    "saxidomus_gigantea = \"./4_saxidomus_coi.fasta\"\n",
    "fasta = \"./fasta.fas\""
   ]
  },
  {
   "cell_type": "code",
   "execution_count": 28,
   "metadata": {},
   "outputs": [],
   "source": [
    "seq_button_len = widgets.Button(button_style='info',description=\"Print Sequence Identifiers\", layout=Layout(width='25%', height='30px') )\n",
    "seq_button_len.on_click( run_current )\n",
    "seq_count = 0"
   ]
  },
  {
   "cell_type": "code",
   "execution_count": 29,
   "metadata": {},
   "outputs": [
    {
     "data": {
      "application/vnd.jupyter.widget-view+json": {
       "model_id": "ba96cefa0dbd445ca7a29cc5b9e4d095",
       "version_major": 2,
       "version_minor": 0
      },
      "text/html": [
       "<p>Failed to display Jupyter Widget of type <code>Button</code>.</p>\n",
       "<p>\n",
       "  If you're reading this message in the Jupyter Notebook or JupyterLab Notebook, it may mean\n",
       "  that the widgets JavaScript is still loading. If this message persists, it\n",
       "  likely means that the widgets JavaScript library is either not installed or\n",
       "  not enabled. See the <a href=\"https://ipywidgets.readthedocs.io/en/stable/user_install.html\">Jupyter\n",
       "  Widgets Documentation</a> for setup instructions.\n",
       "</p>\n",
       "<p>\n",
       "  If you're reading this message in another frontend (for example, a static\n",
       "  rendering on GitHub or <a href=\"https://nbviewer.jupyter.org/\">NBViewer</a>),\n",
       "  it may mean that your frontend doesn't currently support widgets.\n",
       "</p>\n"
      ],
      "text/plain": [
       "Button(button_style='info', description='Print Sequence Identifiers', layout=Layout(height='30px', width='25%'), style=ButtonStyle())"
      ]
     },
     "metadata": {},
     "output_type": "display_data"
    }
   ],
   "source": [
    "seq_count +=1\n",
    "display(seq_button_len)\n",
    "\n",
    "if seq_count>=2:\n",
    "    record_iterator = SeqIO.parse(saxidomus_gigantea, \"fasta\")\n",
    "    records = [record for record in record_iterator]\n",
    "    for item in records:\n",
    "        print(item.id)\n",
    "    #print(len(item))\n",
    "    #print(item.seq)\n",
    "        print(\"\\n\")"
   ]
  },
  {
   "cell_type": "markdown",
   "metadata": {
    "scrolled": true
   },
   "source": [
    "Just as before, we are interested in learning what the length of each sequence is. \n",
    "\n",
    "Press the following button to print the length of each sequence. This button builds on top of the button above: we will see the id's we printed above along with the lengths of the sequences. "
   ]
  },
  {
   "cell_type": "code",
   "execution_count": 30,
   "metadata": {},
   "outputs": [],
   "source": [
    "th_button_len = widgets.Button(button_style='info',description=\"Print Sequence Lengths\", layout=Layout(width='25%', height='30px') )\n",
    "th_button_len.on_click( run_current )\n",
    "th_count = 0"
   ]
  },
  {
   "cell_type": "code",
   "execution_count": 31,
   "metadata": {},
   "outputs": [
    {
     "data": {
      "application/vnd.jupyter.widget-view+json": {
       "model_id": "cea3663ecdaf464b9a93d76e40f15371",
       "version_major": 2,
       "version_minor": 0
      },
      "text/html": [
       "<p>Failed to display Jupyter Widget of type <code>Button</code>.</p>\n",
       "<p>\n",
       "  If you're reading this message in the Jupyter Notebook or JupyterLab Notebook, it may mean\n",
       "  that the widgets JavaScript is still loading. If this message persists, it\n",
       "  likely means that the widgets JavaScript library is either not installed or\n",
       "  not enabled. See the <a href=\"https://ipywidgets.readthedocs.io/en/stable/user_install.html\">Jupyter\n",
       "  Widgets Documentation</a> for setup instructions.\n",
       "</p>\n",
       "<p>\n",
       "  If you're reading this message in another frontend (for example, a static\n",
       "  rendering on GitHub or <a href=\"https://nbviewer.jupyter.org/\">NBViewer</a>),\n",
       "  it may mean that your frontend doesn't currently support widgets.\n",
       "</p>\n"
      ],
      "text/plain": [
       "Button(button_style='info', description='Print Sequence Lengths', layout=Layout(height='30px', width='25%'), style=ButtonStyle())"
      ]
     },
     "metadata": {},
     "output_type": "display_data"
    }
   ],
   "source": [
    "th_count +=1\n",
    "display(th_button_len)\n",
    "\n",
    "if th_count>=2:\n",
    "    record_iterator = SeqIO.parse(saxidomus_gigantea, \"fasta\")\n",
    "    records = [record for record in record_iterator]\n",
    "    for item in records:\n",
    "        print(item.id)\n",
    "        print(len(item))\n",
    "    #print(item.seq)\n",
    "        print(\"\\n\")"
   ]
  },
  {
   "cell_type": "markdown",
   "metadata": {},
   "source": [
    "Next we want to take a look at the sequences. As before, we will build on the two applications above: we will display id, length and sequence. "
   ]
  },
  {
   "cell_type": "code",
   "execution_count": 32,
   "metadata": {},
   "outputs": [],
   "source": [
    "se_button_len = widgets.Button(button_style='info',description=\"Print Sequence Lengths\", layout=Layout(width='25%', height='30px') )\n",
    "se_button_len.on_click( run_current )\n",
    "se_count = 0"
   ]
  },
  {
   "cell_type": "code",
   "execution_count": 33,
   "metadata": {},
   "outputs": [
    {
     "data": {
      "application/vnd.jupyter.widget-view+json": {
       "model_id": "7740343e1c0b4d07ae558a28cb3ffa3d",
       "version_major": 2,
       "version_minor": 0
      },
      "text/html": [
       "<p>Failed to display Jupyter Widget of type <code>Button</code>.</p>\n",
       "<p>\n",
       "  If you're reading this message in the Jupyter Notebook or JupyterLab Notebook, it may mean\n",
       "  that the widgets JavaScript is still loading. If this message persists, it\n",
       "  likely means that the widgets JavaScript library is either not installed or\n",
       "  not enabled. See the <a href=\"https://ipywidgets.readthedocs.io/en/stable/user_install.html\">Jupyter\n",
       "  Widgets Documentation</a> for setup instructions.\n",
       "</p>\n",
       "<p>\n",
       "  If you're reading this message in another frontend (for example, a static\n",
       "  rendering on GitHub or <a href=\"https://nbviewer.jupyter.org/\">NBViewer</a>),\n",
       "  it may mean that your frontend doesn't currently support widgets.\n",
       "</p>\n"
      ],
      "text/plain": [
       "Button(button_style='info', description='Print Sequence Lengths', layout=Layout(height='30px', width='25%'), style=ButtonStyle())"
      ]
     },
     "metadata": {},
     "output_type": "display_data"
    }
   ],
   "source": [
    "se_count +=1\n",
    "display(se_button_len)\n",
    "\n",
    "if se_count>=2:\n",
    "    record_iterator = SeqIO.parse(saxidomus_gigantea, \"fasta\")\n",
    "    records = [record for record in record_iterator]\n",
    "    for item in records:\n",
    "        print(item.id)\n",
    "        print(len(item))\n",
    "        print(item.seq)\n",
    "        print(\"\\n\")"
   ]
  },
  {
   "cell_type": "markdown",
   "metadata": {},
   "source": [
    "These are just like the DNA sequences we worked with in the first section of this notebook, the only difference being this is real and a much longer sequence. \n",
    "\n",
    "The natural step to take next is to perform a MSA of the four sequences in this file. \n",
    "\n",
    "We can do this manually, but one of the key components of bioinformatics is the use of software design to help bioinformaticians. \n",
    "\n",
    "Keep in mind that software is not perfect and it is common for errors to be introduced in the alignments. An important step following the MSA is to verify the alignment and make editions. Although this notebook does not provide insight into alignment edition, a reference is provided at the end of this section. \n",
    "\n",
    "---\n",
    "\n",
    "</h3 align='center'>Performing a MSA using Clustal</h3>\n",
    "\n",
    "Clustal $^{[3]}$ is a general purpose DNA or protein multiple sequence alignment program for three or more sequences. There are two ways we can can use Clustal:\n",
    "\n",
    "1) Online https://www.ebi.ac.uk/Tools/msa/clustalo/\n",
    "\n",
    "\n",
    "2) Via downloading the installation package and running from a terminal.\n",
    "\n",
    "The advantages of the first option are that, of course you do not need to install nor run the softare via a terminal, however the online server is limited when you are working with a large number of sequences. \n",
    "\n",
    "This is advantage of the latter: it can handle a large number of sequences at a time. We will try both in this assignment. \n",
    " \n",
    "\n",
    "**Assignment 6**\n",
    "\n",
    "The button below runs a multiple sequence alignment. Press the button found below. "
   ]
  },
  {
   "cell_type": "code",
   "execution_count": 34,
   "metadata": {},
   "outputs": [
    {
     "data": {
      "application/vnd.jupyter.widget-view+json": {
       "model_id": "2a91d15f234146b2a54eca55ab32e284",
       "version_major": 2,
       "version_minor": 0
      },
      "text/html": [
       "<p>Failed to display Jupyter Widget of type <code>Button</code>.</p>\n",
       "<p>\n",
       "  If you're reading this message in the Jupyter Notebook or JupyterLab Notebook, it may mean\n",
       "  that the widgets JavaScript is still loading. If this message persists, it\n",
       "  likely means that the widgets JavaScript library is either not installed or\n",
       "  not enabled. See the <a href=\"https://ipywidgets.readthedocs.io/en/stable/user_install.html\">Jupyter\n",
       "  Widgets Documentation</a> for setup instructions.\n",
       "</p>\n",
       "<p>\n",
       "  If you're reading this message in another frontend (for example, a static\n",
       "  rendering on GitHub or <a href=\"https://nbviewer.jupyter.org/\">NBViewer</a>),\n",
       "  it may mean that your frontend doesn't currently support widgets.\n",
       "</p>\n"
      ],
      "text/plain": [
       "Button(button_style='info', description='Perform MSA', layout=Layout(height='30px', width='25%'), style=ButtonStyle())"
      ]
     },
     "metadata": {},
     "output_type": "display_data"
    }
   ],
   "source": [
    "def run_next(ev):\n",
    "    \n",
    "    display(Javascript('IPython.notebook.execute_cell_range(IPython.notebook.get_selected_index()+1,IPython.notebook.get_selected_index()+2)'))    \n",
    "\n",
    "al_button_len = widgets.Button(button_style='info',description=\"Perform MSA\", layout=Layout(width='25%', height='30px') )\n",
    "al_button_len.on_click( run_next )\n",
    "display(al_button_len)"
   ]
  },
  {
   "cell_type": "code",
   "execution_count": 35,
   "metadata": {},
   "outputs": [
    {
     "name": "stdout",
     "output_type": "stream",
     "text": [
      "\n",
      "\n",
      "\n",
      " CLUSTAL 2.1 Multiple Sequence Alignments\n",
      "\n",
      "\n",
      "Sequence format is Pearson\n",
      "Sequence 1: KF643696.1   658 bp\n",
      "Sequence 2: KF643744.1   658 bp\n",
      "Sequence 3: KF644110.1   658 bp\n",
      "Sequence 4: KF644144.1   658 bp\n",
      "Start of Pairwise alignments\n",
      "Aligning...\n",
      "\n",
      "Sequences (1:2) Aligned. Score:  99\n",
      "Sequences (1:3) Aligned. Score:  99\n",
      "Sequences (1:4) Aligned. Score:  99\n",
      "Sequences (2:3) Aligned. Score:  99\n",
      "Sequences (2:4) Aligned. Score:  99\n",
      "Sequences (3:4) Aligned. Score:  100\n",
      "Guide tree file created:   [4_saxidomus_coi.dnd]\n",
      "\n",
      "There are 3 groups\n",
      "Start of Multiple Alignment\n",
      "\n",
      "Aligning...\n",
      "Group 1: Sequences:   2      Score:12502\n",
      "Group 2: Sequences:   3      Score:12483\n",
      "Group 3: Sequences:   4      Score:12470\n",
      "Alignment Score 25460\n",
      "\n",
      "CLUSTAL-Alignment file created  [4_saxidomus_coi.aln]\n",
      "\n"
     ]
    }
   ],
   "source": [
    "!/home/singcanada2018/ClustalW/clustalw-2.1-linux-x86_64-libcppstatic/clustalw2 4_saxidomus_coi.fasta"
   ]
  },
  {
   "cell_type": "markdown",
   "metadata": {},
   "source": [
    "The above is output from Clustal. \n",
    "\n",
    "Go to the home page \n",
    "\n",
    "https://cybera.syzygy.ca/jupyter/user/singcanada2018/tree/SING\n",
    "\n",
    "and open the file named \"4_saxidomus_coi.aln\"\n",
    "\n",
    "This is the sequence alignment. \n",
    "\n",
    "**Assignment 7**\n",
    "\n",
    "1. Go to https://www.ebi.ac.uk/Tools/msa/clustalo/\n",
    "\n",
    "2. Select DNA\n",
    "\n",
    "3. Choose the \"4_saxidomus_coi.fasta\" file\n",
    "\n",
    "4. Press the \"Submit\" button. \n",
    "\n",
    "5. Compare your output with the output we obtained. "
   ]
  },
  {
   "cell_type": "markdown",
   "metadata": {},
   "source": [
    "<h2 align='center'>Phylogenetic Tree</h2>\n",
    "\n",
    "Recall that we are interested in determining common ancestors of the genes we are working with. Our goal is to establish different hypothesis regarding the ancestors based on regions of similarity within our alignment. \n",
    "\n",
    "A phylogenetic tree allows us to establish models for such hypothesis.\n",
    "\n",
    "Although we will not explore in detail how to construct a phylogenetic tree, we will use IQTree $^{[5]}$ along with its modelfinder feature $^{[5]}$ to find the best possible model for our sequences. \n",
    "\n",
    "**Assignment 8**\n",
    "\n",
    "Press the button below to generate a phylogenetic tree for our butter clam DNA sequences. "
   ]
  },
  {
   "cell_type": "code",
   "execution_count": 36,
   "metadata": {},
   "outputs": [
    {
     "data": {
      "application/vnd.jupyter.widget-view+json": {
       "model_id": "4a282db3860f48fe932fae1a2b949fcb",
       "version_major": 2,
       "version_minor": 0
      },
      "text/html": [
       "<p>Failed to display Jupyter Widget of type <code>Button</code>.</p>\n",
       "<p>\n",
       "  If you're reading this message in the Jupyter Notebook or JupyterLab Notebook, it may mean\n",
       "  that the widgets JavaScript is still loading. If this message persists, it\n",
       "  likely means that the widgets JavaScript library is either not installed or\n",
       "  not enabled. See the <a href=\"https://ipywidgets.readthedocs.io/en/stable/user_install.html\">Jupyter\n",
       "  Widgets Documentation</a> for setup instructions.\n",
       "</p>\n",
       "<p>\n",
       "  If you're reading this message in another frontend (for example, a static\n",
       "  rendering on GitHub or <a href=\"https://nbviewer.jupyter.org/\">NBViewer</a>),\n",
       "  it may mean that your frontend doesn't currently support widgets.\n",
       "</p>\n"
      ],
      "text/plain": [
       "Button(button_style='info', description='Generate Phylogenetic Tree', layout=Layout(height='30px', width='25%'), style=ButtonStyle())"
      ]
     },
     "metadata": {},
     "output_type": "display_data"
    }
   ],
   "source": [
    "tree_button_len = widgets.Button(button_style='info',description=\"Generate Phylogenetic Tree\", layout=Layout(width='25%', height='30px') )\n",
    "tree_button_len.on_click( run_next )\n",
    "display(tree_button_len)"
   ]
  },
  {
   "cell_type": "code",
   "execution_count": 37,
   "metadata": {},
   "outputs": [
    {
     "name": "stdout",
     "output_type": "stream",
     "text": [
      "IQ-TREE multicore version 1.6.6 for Linux 64-bit built Jul  1 2018\n",
      "Developed by Bui Quang Minh, Nguyen Lam Tung, Olga Chernomor,\n",
      "Heiko Schmidt, Dominik Schrempf, Michael Woodhams.\n",
      "\n",
      "Host:    8e4bb8d0cabd (AVX, 31 GB RAM)\n",
      "Command: /home/singcanada2018/IQtree/iqtree-1.6.6-Linux/bin/iqtree -s /home/singcanada2018/SING/4_saxidomus_coi.aln\n",
      "Seed:    701053 (Using SPRNG - Scalable Parallel Random Number Generator)\n",
      "Time:    Wed Aug  1 19:43:10 2018\n",
      "Kernel:  AVX - 1 threads (8 CPU cores detected)\n",
      "\n",
      "HINT: Use -nt option to specify number of threads because your CPU has 8 cores!\n",
      "HINT: -nt AUTO will automatically determine the best number of threads to use.\n",
      "\n",
      "Reading alignment file /home/singcanada2018/SING/4_saxidomus_coi.aln ... Clustal format detected\n",
      "Alignment most likely contains DNA/RNA sequences\n",
      "Alignment has 4 sequences with 658 columns, 7 distinct patterns\n",
      "2 parsimony-informative, 2 singleton sites, 654 constant sites\n",
      "            Gap/Ambiguity  Composition  p-value\n",
      "   1  KF644110.1    0.00%    passed     99.99%\n",
      "   2  KF644144.1    0.00%    passed     99.99%\n",
      "   3  KF643696.1    0.00%    passed     99.99%\n",
      "   4  KF643744.1    0.00%    passed     99.85%\n",
      "****  TOTAL         0.00%  0 sequences failed composition chi2 test (p-value<5%; df=3)\n",
      "NOTE: KF644144.1 is identical to KF644110.1 but kept for subsequent analysis\n",
      "\n",
      "\n",
      "Create initial parsimony tree by phylogenetic likelihood library (PLL)... 0.000 seconds\n",
      "NOTE: ModelFinder requires 0 MB RAM!\n",
      "ModelFinder will test 286 DNA models (sample size: 658) ...\n",
      " No. Model         -LnL         df  AIC          AICc         BIC\n",
      "  1  JC            943.759      5   1897.518     1897.610     1919.964\n",
      "  2  JC+I          943.759      6   1899.518     1899.647     1926.454\n",
      "  3  JC+G4         943.759      6   1899.518     1899.647     1926.454\n",
      "  4  JC+I+G4       943.765      7   1901.531     1901.703     1932.955\n",
      "  5  JC+R2         943.762      7   1901.524     1901.696     1932.949\n",
      "  6  JC+R3         943.762      9   1905.524     1905.802     1945.927\n",
      " 14  F81+F         897.710      8   1811.419     1811.641     1847.333\n",
      " 15  F81+F+I       897.710      9   1813.419     1813.697     1853.822\n",
      " 16  F81+F+G4      897.710      9   1813.419     1813.697     1853.822\n",
      " 17  F81+F+I+G4    897.715      10  1815.429     1815.769     1860.321\n",
      " 18  F81+F+R2      897.712      10  1815.424     1815.764     1860.316\n",
      " 19  F81+F+R3      897.712      12  1819.424     1819.908     1873.295\n",
      " 27  K2P           939.456      6   1890.912     1891.041     1917.847\n",
      " 28  K2P+I         939.456      7   1892.912     1893.084     1924.336\n",
      " 29  K2P+G4        939.456      7   1892.912     1893.084     1924.336\n",
      " 30  K2P+I+G4      939.462      8   1894.924     1895.146     1930.838\n",
      " 31  K2P+R2        939.459      8   1894.917     1895.139     1930.831\n",
      " 32  K2P+R3        939.459      10  1898.917     1899.257     1943.809\n",
      " 40  HKY+F         893.082      9   1804.163     1804.441     1844.566\n",
      " 41  HKY+F+I       893.082      10  1806.163     1806.503     1851.055\n",
      " 42  HKY+F+G4      893.082      10  1806.163     1806.503     1851.055\n",
      " 43  HKY+F+I+G4    893.088      11  1808.176     1808.585     1857.558\n",
      " 44  HKY+F+R2      893.085      11  1808.169     1808.578     1857.551\n",
      " 45  HKY+F+R3      893.085      13  1812.169     1812.735     1870.529\n",
      " 53  TNe           937.167      7   1888.333     1888.506     1919.758\n",
      " 54  TNe+I         937.167      8   1890.333     1890.555     1926.247\n",
      " 55  TNe+G4        937.167      8   1890.333     1890.555     1926.247\n",
      " 56  TNe+I+G4      937.178      9   1892.357     1892.634     1932.760\n",
      " 57  TNe+R2        937.172      9   1892.344     1892.622     1932.747\n",
      " 58  TNe+R3        937.172      11  1896.344     1896.752     1945.725\n",
      " 66  TN+F          890.783      10  1801.566     1801.906     1846.458\n",
      " 67  TN+F+I        890.783      11  1803.566     1803.975     1852.947\n",
      " 68  TN+F+G4       890.783      11  1803.566     1803.975     1852.947\n",
      " 69  TN+F+I+G4     890.792      12  1805.584     1806.067     1859.454\n",
      " 70  TN+F+R2       890.787      12  1805.574     1806.058     1859.444\n",
      " 71  TN+F+R3       890.787      14  1809.574     1810.227     1872.423\n",
      " 79  K3P           939.516      7   1893.032     1893.204     1924.456\n",
      " 80  K3P+I         939.510      8   1895.020     1895.242     1930.934\n",
      " 81  K3P+G4        939.504      8   1895.008     1895.230     1930.922\n",
      " 82  K3P+I+G4      939.504      9   1897.009     1897.287     1937.412\n",
      " 83  K3P+R2        939.495      9   1896.990     1897.268     1937.393\n",
      " 84  K3P+R3        939.489      11  1900.977     1901.386     1950.359\n",
      " 92  K3Pu+F        893.122      10  1806.243     1806.583     1851.135\n",
      " 93  K3Pu+F+I      893.114      11  1808.228     1808.637     1857.610\n",
      " 94  K3Pu+F+G4     893.107      11  1808.213     1808.622     1857.594\n",
      " 95  K3Pu+F+I+G4   893.106      12  1810.211     1810.695     1864.082\n",
      " 96  K3Pu+F+R2     893.094      12  1810.189     1810.673     1864.059\n",
      " 97  K3Pu+F+R3     893.087      14  1814.173     1814.826     1877.022\n",
      "105  TPM2+F        893.081      10  1806.162     1806.502     1851.054\n",
      "106  TPM2+F+I      893.079      11  1808.158     1808.567     1857.539\n",
      "107  TPM2+F+G4     893.077      11  1808.154     1808.563     1857.536\n",
      "108  TPM2+F+I+G4   893.082      12  1810.163     1810.647     1864.034\n",
      "109  TPM2+F+R2     893.076      12  1810.152     1810.636     1864.023\n",
      "110  TPM2+F+R3     893.074      14  1814.148     1814.801     1876.997\n",
      "118  TPM2u+F       893.069      10  1806.139     1806.479     1851.031\n",
      "119  TPM2u+F+I     893.067      11  1808.135     1808.544     1857.516\n",
      "120  TPM2u+F+G4    893.066      11  1808.131     1808.540     1857.512\n",
      "121  TPM2u+F+I+G4  893.070      12  1810.140     1810.624     1864.011\n",
      "122  TPM2u+F+R2    893.065      12  1810.129     1810.613     1864.000\n",
      "123  TPM2u+F+R3    893.062      14  1814.125     1814.778     1876.974\n",
      "131  TPM3+F        893.059      10  1806.118     1806.458     1851.010\n",
      "132  TPM3+F+I      893.059      11  1808.118     1808.527     1857.500\n",
      "133  TPM3+F+G4     893.059      11  1808.118     1808.527     1857.500\n",
      "134  TPM3+F+I+G4   893.066      12  1810.131     1810.615     1864.002\n",
      "135  TPM3+F+R2     893.062      12  1810.124     1810.608     1863.994\n",
      "136  TPM3+F+R3     893.062      14  1814.124     1814.777     1876.973\n",
      "144  TPM3u+F       893.059      10  1806.118     1806.458     1851.010\n",
      "145  TPM3u+F+I     893.059      11  1808.118     1808.527     1857.500\n",
      "146  TPM3u+F+G4    893.059      11  1808.118     1808.527     1857.500\n",
      "147  TPM3u+F+I+G4  893.066      12  1810.131     1810.615     1864.002\n",
      "148  TPM3u+F+R2    893.062      12  1810.124     1810.608     1863.994\n",
      "149  TPM3u+F+R3    893.062      14  1814.124     1814.777     1876.972\n",
      "157  TIMe          937.096      8   1890.193     1890.415     1926.106\n",
      "158  TIMe+I        937.096      9   1892.193     1892.470     1932.596\n",
      "159  TIMe+G4       937.096      9   1892.193     1892.471     1932.596\n",
      "160  TIMe+I+G4     937.108      10  1894.215     1894.555     1939.107\n",
      "161  TIMe+R2       937.101      10  1894.202     1894.542     1939.094\n",
      "162  TIMe+R3       937.101      12  1898.202     1898.685     1952.072\n",
      "170  TIM+F         890.704      11  1803.409     1803.818     1852.790\n",
      "171  TIM+F+I       890.704      12  1805.409     1805.893     1859.279\n",
      "172  TIM+F+G4      890.704      12  1805.409     1805.893     1859.279\n",
      "173  TIM+F+I+G4    890.713      13  1807.425     1807.990     1865.785\n",
      "174  TIM+F+R2      890.708      13  1807.416     1807.981     1865.775\n",
      "175  TIM+F+R3      890.708      15  1811.415     1812.163     1878.753\n",
      "183  TIM2e         937.096      8   1890.193     1890.415     1926.106\n",
      "184  TIM2e+I       937.096      9   1892.193     1892.470     1932.596\n",
      "185  TIM2e+G4      937.096      9   1892.193     1892.470     1932.596\n",
      "186  TIM2e+I+G4    937.108      10  1894.215     1894.555     1939.107\n",
      "187  TIM2e+R2      937.101      10  1894.202     1894.542     1939.094\n",
      "188  TIM2e+R3      937.101      12  1898.201     1898.685     1952.072\n",
      "196  TIM2+F        890.704      11  1803.407     1803.816     1852.788\n",
      "197  TIM2+F+I      890.704      12  1805.407     1805.891     1859.277\n",
      "198  TIM2+F+G4     890.704      12  1805.407     1805.891     1859.277\n",
      "199  TIM2+F+I+G4   890.712      13  1807.423     1807.988     1865.783\n",
      "200  TIM2+F+R2     890.707      13  1807.414     1807.979     1865.773\n",
      "201  TIM2+F+R3     890.707      15  1811.413     1812.161     1878.751\n",
      "209  TIM3e         937.096      8   1890.193     1890.414     1926.106\n",
      "210  TIM3e+I       937.096      9   1892.193     1892.470     1932.595\n",
      "211  TIM3e+G4      937.096      9   1892.193     1892.470     1932.595\n",
      "212  TIM3e+I+G4    937.108      10  1894.215     1894.555     1939.107\n",
      "213  TIM3e+R2      937.101      10  1894.202     1894.542     1939.094\n",
      "214  TIM3e+R3      937.100      12  1898.201     1898.685     1952.071\n",
      "222  TIM3+F        890.703      11  1803.407     1803.816     1852.788\n",
      "223  TIM3+F+I      890.703      12  1805.407     1805.891     1859.277\n"
     ]
    },
    {
     "name": "stdout",
     "output_type": "stream",
     "text": [
      "224  TIM3+F+G4     890.703      12  1805.407     1805.891     1859.277\n",
      "225  TIM3+F+I+G4   890.712      13  1807.423     1807.988     1865.783\n",
      "226  TIM3+F+R2     890.707      13  1807.413     1807.979     1865.773\n",
      "227  TIM3+F+R3     890.706      15  1811.413     1812.160     1878.751\n",
      "235  TVMe          939.443      9   1896.886     1897.164     1937.289\n",
      "236  TVMe+I        939.442      10  1898.884     1899.224     1943.776\n",
      "237  TVMe+G4       939.441      10  1898.882     1899.222     1943.774\n",
      "238  TVMe+I+G4     939.446      11  1900.892     1901.301     1950.273\n",
      "239  TVMe+R2       939.441      11  1900.883     1901.291     1950.264\n",
      "240  TVMe+R3       939.440      13  1904.880     1905.445     1963.240\n",
      "248  TVM+F         893.073      12  1810.147     1810.631     1864.017\n",
      "249  TVM+F+I       893.072      13  1812.144     1812.710     1870.504\n",
      "250  TVM+F+G4      893.071      13  1812.142     1812.707     1870.501\n",
      "251  TVM+F+I+G4    893.076      14  1814.152     1814.805     1877.001\n",
      "252  TVM+F+R2      893.071      14  1814.142     1814.795     1876.991\n",
      "253  TVM+F+R3      893.069      16  1818.139     1818.987     1889.966\n",
      "261  SYM           937.070      10  1894.141     1894.481     1939.033\n",
      "262  SYM+I         937.070      11  1896.141     1896.549     1945.522\n",
      "263  SYM+G4        937.070      11  1896.141     1896.549     1945.522\n",
      "264  SYM+I+G4      937.082      12  1898.163     1898.647     1952.034\n",
      "265  SYM+R2        937.075      12  1898.149     1898.633     1952.020\n",
      "266  SYM+R3        937.074      14  1902.148     1902.802     1964.997\n",
      "274  GTR+F         890.683      13  1807.367     1807.932     1865.727\n",
      "275  GTR+F+I       890.683      14  1809.367     1810.020     1872.216\n",
      "276  GTR+F+G4      890.683      14  1809.367     1810.020     1872.216\n",
      "277  GTR+F+I+G4    890.692      15  1811.383     1812.131     1878.721\n",
      "278  GTR+F+R2      890.687      15  1811.373     1812.121     1878.711\n",
      "279  GTR+F+R3      890.686      17  1815.372     1816.329     1891.689\n",
      "Akaike Information Criterion:           TN+F\n",
      "Corrected Akaike Information Criterion: TN+F\n",
      "Bayesian Information Criterion:         HKY+F\n",
      "Best-fit model: HKY+F chosen according to BIC\n",
      "\n",
      "All model information printed to /home/singcanada2018/SING/4_saxidomus_coi.aln.model.gz\n",
      "CPU time for ModelFinder: 0.090 seconds (0h:0m:0s)\n",
      "Wall-clock time for ModelFinder: 0.140 seconds (0h:0m:0s)\n",
      "\n",
      "NOTE: 0 MB RAM (0 GB) is required!\n",
      "Estimate model parameters (epsilon = 0.100)\n",
      "1. Initial log-likelihood: -897.710\n",
      "2. Current log-likelihood: -893.082\n",
      "Optimal log-likelihood: -893.082\n",
      "Rate parameters:  A-C: 1.00000  A-G: 100.00000  A-T: 1.00000  C-G: 1.00000  C-T: 100.00000  G-T: 1.00000\n",
      "Base frequencies:  A: 0.216  C: 0.148  G: 0.226  T: 0.410\n",
      "Parameters optimization took 2 rounds (0.001 sec)\n",
      "\n",
      "WARNING: Estimated model parameters are at boundary that can cause numerical instability!\n",
      "\n",
      "Computing ML distances based on estimated model parameters... 0.000 sec\n",
      "Computing BIONJ tree...\n",
      "0.001 seconds\n",
      "Log-likelihood of BIONJ tree: -893.080\n",
      "--------------------------------------------------------------------\n",
      "|             INITIALIZING CANDIDATE TREE SET                      |\n",
      "--------------------------------------------------------------------\n",
      "Generating 99 parsimony trees... 0.010 second\n",
      "Computing log-likelihood of 2 initial trees ... 0.000 seconds\n",
      "Current best score: -893.080\n",
      "\n",
      "Do NNI search on 3 best initial trees\n",
      "Finish initializing candidate tree set (3)\n",
      "Current best tree score: -893.080 / CPU time: 0.011\n",
      "Number of iterations: 3\n",
      "--------------------------------------------------------------------\n",
      "|               OPTIMIZING CANDIDATE TREE SET                      |\n",
      "--------------------------------------------------------------------\n",
      "UPDATE BEST LOG-LIKELIHOOD: -893.080\n",
      "Iteration 10 / LogL: -893.080 / Time: 0h:0m:0s\n",
      "Iteration 20 / LogL: -893.080 / Time: 0h:0m:0s\n",
      "Iteration 30 / LogL: -893.080 / Time: 0h:0m:0s (0h:0m:0s left)\n",
      "Iteration 40 / LogL: -893.082 / Time: 0h:0m:0s (0h:0m:0s left)\n",
      "Iteration 50 / LogL: -893.080 / Time: 0h:0m:0s (0h:0m:0s left)\n",
      "Iteration 60 / LogL: -893.080 / Time: 0h:0m:0s (0h:0m:0s left)\n",
      "Iteration 70 / LogL: -903.450 / Time: 0h:0m:0s (0h:0m:0s left)\n",
      "Iteration 80 / LogL: -893.082 / Time: 0h:0m:0s (0h:0m:0s left)\n",
      "Iteration 90 / LogL: -893.082 / Time: 0h:0m:0s (0h:0m:0s left)\n",
      "Iteration 100 / LogL: -903.450 / Time: 0h:0m:0s (0h:0m:0s left)\n",
      "TREE SEARCH COMPLETED AFTER 101 ITERATIONS / Time: 0h:0m:0s\n",
      "\n",
      "--------------------------------------------------------------------\n",
      "|                    FINALIZING TREE SEARCH                        |\n",
      "--------------------------------------------------------------------\n",
      "Performs final model parameters optimization\n",
      "Estimate model parameters (epsilon = 0.010)\n",
      "1. Initial log-likelihood: -893.080\n",
      "Optimal log-likelihood: -893.080\n",
      "Rate parameters:  A-C: 1.00000  A-G: 100.00000  A-T: 1.00000  C-G: 1.00000  C-T: 100.00000  G-T: 1.00000\n",
      "Base frequencies:  A: 0.216  C: 0.148  G: 0.226  T: 0.410\n",
      "Parameters optimization took 1 rounds (0.000 sec)\n",
      "\n",
      "WARNING: Estimated model parameters are at boundary that can cause numerical instability!\n",
      "\n",
      "BEST SCORE FOUND : -893.080\n",
      "Total tree length: 0.006\n",
      "\n",
      "Total number of iterations: 101\n",
      "CPU time used for tree search: 0.030 sec (0h:0m:0s)\n",
      "Wall-clock time used for tree search: 0.032 sec (0h:0m:0s)\n",
      "Total CPU time used: 0.038 sec (0h:0m:0s)\n",
      "Total wall-clock time used: 0.044 sec (0h:0m:0s)\n",
      "\n",
      "Analysis results written to: \n",
      "  IQ-TREE report:                /home/singcanada2018/SING/4_saxidomus_coi.aln.iqtree\n",
      "  Maximum-likelihood tree:       /home/singcanada2018/SING/4_saxidomus_coi.aln.treefile\n",
      "  Likelihood distances:          /home/singcanada2018/SING/4_saxidomus_coi.aln.mldist\n",
      "  Screen log file:               /home/singcanada2018/SING/4_saxidomus_coi.aln.log\n",
      "\n",
      "Date and Time: Wed Aug  1 19:43:10 2018\n"
     ]
    }
   ],
   "source": [
    "!/home/singcanada2018/IQtree/iqtree-1.6.6-Linux/bin/iqtree -s /home/singcanada2018/SING/4_saxidomus_coi.aln"
   ]
  },
  {
   "cell_type": "markdown",
   "metadata": {},
   "source": [
    "Press the button below to show the tree."
   ]
  },
  {
   "cell_type": "code",
   "execution_count": 38,
   "metadata": {},
   "outputs": [],
   "source": [
    "with open(\"./4_saxidomus_coi.aln.iqtree\",'r') as f:\n",
    "    tree = [line for line in f if \"**\" in line or \"|\" in line or \"+-\" in line]\n",
    "f.close()"
   ]
  },
  {
   "cell_type": "code",
   "execution_count": 39,
   "metadata": {},
   "outputs": [
    {
     "data": {
      "application/vnd.jupyter.widget-view+json": {
       "model_id": "64cb5aa0671c411ca24a968ececb2c58",
       "version_major": 2,
       "version_minor": 0
      },
      "text/html": [
       "<p>Failed to display Jupyter Widget of type <code>Button</code>.</p>\n",
       "<p>\n",
       "  If you're reading this message in the Jupyter Notebook or JupyterLab Notebook, it may mean\n",
       "  that the widgets JavaScript is still loading. If this message persists, it\n",
       "  likely means that the widgets JavaScript library is either not installed or\n",
       "  not enabled. See the <a href=\"https://ipywidgets.readthedocs.io/en/stable/user_install.html\">Jupyter\n",
       "  Widgets Documentation</a> for setup instructions.\n",
       "</p>\n",
       "<p>\n",
       "  If you're reading this message in another frontend (for example, a static\n",
       "  rendering on GitHub or <a href=\"https://nbviewer.jupyter.org/\">NBViewer</a>),\n",
       "  it may mean that your frontend doesn't currently support widgets.\n",
       "</p>\n"
      ],
      "text/plain": [
       "Button(button_style='info', description='Show Phylogenetic Tree', layout=Layout(height='30px', width='25%'), style=ButtonStyle())"
      ]
     },
     "metadata": {},
     "output_type": "display_data"
    }
   ],
   "source": [
    "show_button_len = widgets.Button(button_style='info',description=\"Show Phylogenetic Tree\", layout=Layout(width='25%', height='30px') )\n",
    "show_button_len.on_click( run_next )\n",
    "display(show_button_len)"
   ]
  },
  {
   "cell_type": "code",
   "execution_count": 40,
   "metadata": {},
   "outputs": [
    {
     "name": "stdout",
     "output_type": "stream",
     "text": [
      "+**KF644110.1\n",
      "\n",
      "|\n",
      "\n",
      "+**KF644144.1\n",
      "\n",
      "|\n",
      "\n",
      "|                             +**KF643696.1\n",
      "\n",
      "+-----------------------------|\n",
      "\n",
      "                              +----------------------------KF643744.1\n",
      "\n"
     ]
    }
   ],
   "source": [
    "for line in tree:\n",
    "    print(line)"
   ]
  },
  {
   "cell_type": "markdown",
   "metadata": {},
   "source": [
    "<h2 align='center'>Observations</h2>\n",
    "\n",
    "We see KF644144.1 and KF644110.1 in one branch. KF643696.1 in a separate branch and \"KF643744.1\" in a separate branch. \n",
    "\n",
    "**Question?**\n",
    "\n",
    "What does this tell us about common ancestors?\n",
    "\n",
    "To be explored next session..."
   ]
  },
  {
   "cell_type": "markdown",
   "metadata": {},
   "source": [
    "<h2 align='center'>Conclusion</h2>\n",
    "\n",
    "In this notebook we learned what a sequence is, as well as a what a sequence alignment and multiple sequence alignments are.\n",
    "\n",
    "We performed an MSA on DNA sequences for butter clam and generated a phylogenetic tree. "
   ]
  },
  {
   "cell_type": "markdown",
   "metadata": {},
   "source": [
    "<h2 align='center'>References</h2>\n",
    "\n",
    "https://inverts.wallawalla.edu/Mollusca/Bivalvia/Veneroida/Veneridae/Saxidomus_gigantea.html\n",
    "\n",
    "[2] https://zhanglab.ccmb.med.umich.edu/FASTA/\n",
    "\n",
    "[3] https://www.ebi.ac.uk/Tools/msa/clustalw2/\n",
    "\n",
    "[4] Subha Kalyaanamoorthy, Bui Quang Minh, Thomas KF Wong, Arndt von Haeseler,\n",
    "and Lars S Jermiin (2017) ModelFinder: Fast model selection for\n",
    "accurate phylogenetic estimates. Nature Methods, 14:587–589.\n",
    "https://doi.org/10.1038/nmeth.4285\n",
    "\n",
    "\n",
    "[5] Lam-Tung Nguyen, Heiko A. Schmidt, Arndt von Haeseler, and Bui Quang Minh\n",
    "(2015) IQ-TREE: A fast and effective stochastic algorithm for estimating\n",
    "maximum likelihood phylogenies. Mol Biol Evol, 32:268-274.\n",
    "https://doi.org/10.1093/molbev/msu300\n"
   ]
  },
  {
   "cell_type": "markdown",
   "metadata": {},
   "source": [
    "\n",
    "<img src=\"./images/SING_Banner.png\" width=600px/> "
   ]
  }
 ],
 "metadata": {
  "kernelspec": {
   "display_name": "Python 3",
   "language": "python",
   "name": "python3"
  },
  "language_info": {
   "codemirror_mode": {
    "name": "ipython",
    "version": 3
   },
   "file_extension": ".py",
   "mimetype": "text/x-python",
   "name": "python",
   "nbconvert_exporter": "python",
   "pygments_lexer": "ipython3",
   "version": "3.6.5"
  }
 },
 "nbformat": 4,
 "nbformat_minor": 2
}
